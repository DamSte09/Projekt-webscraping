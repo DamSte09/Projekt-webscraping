{
 "cells": [
  {
   "cell_type": "code",
   "execution_count": 6,
   "id": "2f4eeeb1-4c1a-469a-975a-09620afe3d34",
   "metadata": {
    "tags": []
   },
   "outputs": [],
   "source": [
    "import requests\n",
    "from bs4 import BeautifulSoup\n",
    "import pandas as pd\n",
    "import re\n",
    "import openpyxl"
   ]
  },
  {
   "cell_type": "code",
   "execution_count": 7,
   "id": "5db4276c-5fc9-47e7-966e-9099b14e127f",
   "metadata": {
    "tags": []
   },
   "outputs": [],
   "source": [
    "from selenium import webdriver\n",
    "import time\n",
    "\n",
    "url='https://www.hltv.org/stats/players?startDate=2022-06-01&endDate=2023-06-01'\n",
    " \n",
    "browser = webdriver.Edge()\n",
    "browser.get(url)\n",
    "time.sleep(3)\n",
    "\n",
    "content = browser.page_source\n",
    "soup = BeautifulSoup(content,'html.parser')"
   ]
  },
  {
   "cell_type": "code",
   "execution_count": 8,
   "id": "142f5921-e335-4b99-9dad-5bfa46ab93b1",
   "metadata": {
    "tags": []
   },
   "outputs": [],
   "source": [
    "nicks = []\n",
    "ratings = []\n",
    "countries = []\n",
    "teams = []\n",
    "maps = []\n",
    "age = []\n",
    "number = 1\n",
    "position = []\n",
    "kdlist=[]\n",
    "\n",
    "tbody = soup.find('tbody')"
   ]
  },
  {
   "cell_type": "code",
   "execution_count": 9,
   "id": "d6b40d23-7c01-4d48-acfa-09d3262f1f42",
   "metadata": {
    "tags": []
   },
   "outputs": [],
   "source": [
    "for tr in tbody.find_all('tr'):\n",
    "    #pseudonim zawodnika\n",
    "    position.append(number)\n",
    "    nick = tr.find('td', class_='playerCol').text\n",
    "    nicks.append(nick)\n",
    "    \n",
    "    # wyciaganie ratingu zawodnika\n",
    "    if tr.find('td', class_='ratingCol ratingPositive') != None:\n",
    "        rating = tr.find('td', class_='ratingCol ratingPositive').text\n",
    "    elif tr.find('td', class_='ratingCol ratingNeutral') != None:\n",
    "        rating =  tr.find('td', class_='ratingCol ratingNeutral').text\n",
    "    ratings.append(rating)\n",
    "    \n",
    "    # wyciaganie nazwy kraju\n",
    "    imgcountry = tr.find('img', class_ = 'flag', title=re.compile(\"^(?!http).*\"))\n",
    "    country = imgcountry.get('title')\n",
    "    countries.append(country)\n",
    "    \n",
    "    # wyciaganie nazwy druzyny\n",
    "    imgteam = tr.find('img', class_ = 'logo', title=re.compile(\"^(?!http).*\"))\n",
    "    team = imgteam.get('title')\n",
    "    teams.append(team)\n",
    "    \n",
    "    # ilosc zagranych map\n",
    "    maps_played = tr.find_all('td', class_='statsDetail')[0].text\n",
    "    maps.append(maps_played)\n",
    "    \n",
    "    # statystyka kd zawodnika\n",
    "    kd = tr.find_all('td', class_='statsDetail')[2].text\n",
    "    kdlist.append(kd)\n",
    "    number = number+1\n",
    "    \n",
    "    #print(f'''\n",
    "    #    Player nick: {nick}\n",
    "    #    Rating: {rating}\n",
    "    #    Country: {country}\n",
    "    #    Team: {team}\n",
    "    #    Played maps: {maps_played}\n",
    "    #''')\n",
    "    #print(tr.a['href'])\n",
    "\n"
   ]
  },
  {
   "cell_type": "code",
   "execution_count": 10,
   "id": "6b6f9b4e-4042-492b-a076-04ad2c71dd0c",
   "metadata": {},
   "outputs": [],
   "source": [
    "series1 = pd.Series(nicks, name = 'Names')\n",
    "series2 = pd.Series(ratings, name = 'Rating')\n",
    "series3 = pd.Series(countries, name = 'Country')\n",
    "series4 = pd.Series(teams, name = 'Team')\n",
    "series5 = pd.Series(maps, name = 'Map played')\n",
    "\n",
    "df = pd.DataFrame({\n",
    "    'Position': position,\n",
    "    'Player nick': series1,\n",
    "    #'Age': ,\n",
    "    'Country': series3,\n",
    "    'Team': series4,\n",
    "    'Played maps': series5,\n",
    "    'K/D Ratio': kdlist,\n",
    "    'Rating': series2\n",
    "    })\n",
    "df.to_excel('players.xlsx', index=False)"
   ]
  },
  {
   "cell_type": "code",
   "execution_count": 11,
   "id": "0da7cd43-9e6c-4d2e-9b1b-3dc362b9c407",
   "metadata": {
    "tags": []
   },
   "outputs": [],
   "source": [
    "# W celach testowych\n",
    "url='https://www.hltv.org/stats/players/16920/sh1ro?startDate=2023-01-01&endDate=2023-12-31'\n",
    " \n",
    "browser = webdriver.Edge()\n",
    "browser.get(url)\n",
    "time.sleep(3)\n",
    "\n",
    "content = browser.page_source\n",
    "soup1 = BeautifulSoup(content,'lxml')"
   ]
  },
  {
   "cell_type": "code",
   "execution_count": null,
   "id": "7a56a250-bb39-43dd-9c1f-dc3eca08a9d9",
   "metadata": {
    "tags": []
   },
   "outputs": [],
   "source": [
    "age = soup1.find('div', class_ = 'summaryPlayerAge').text.replace(' years', '')"
   ]
  },
  {
   "cell_type": "code",
   "execution_count": 74,
   "id": "37df6a38-f54a-48f8-998e-e1b092470545",
   "metadata": {
    "tags": []
   },
   "outputs": [
    {
     "name": "stdout",
     "output_type": "stream",
     "text": [
      "21\n"
     ]
    }
   ],
   "source": [
    "print(age)"
   ]
  },
  {
   "cell_type": "code",
   "execution_count": null,
   "id": "b3923c01-1ab9-497a-9833-cb45f9860851",
   "metadata": {},
   "outputs": [],
   "source": []
  }
 ],
 "metadata": {
  "kernelspec": {
   "display_name": "Python 3 (ipykernel)",
   "language": "python",
   "name": "python3"
  },
  "language_info": {
   "codemirror_mode": {
    "name": "ipython",
    "version": 3
   },
   "file_extension": ".py",
   "mimetype": "text/x-python",
   "name": "python",
   "nbconvert_exporter": "python",
   "pygments_lexer": "ipython3",
   "version": "3.11.1"
  }
 },
 "nbformat": 4,
 "nbformat_minor": 5
}
